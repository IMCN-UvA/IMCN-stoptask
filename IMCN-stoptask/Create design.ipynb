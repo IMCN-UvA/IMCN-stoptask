{
 "cells": [
  {
   "cell_type": "code",
   "execution_count": 49,
   "metadata": {
    "collapsed": true
   },
   "outputs": [],
   "source": [
    "from __future__ import division\n",
    "import pandas as pd\n",
    "import numpy as np\n",
    "import os"
   ]
  },
  {
   "cell_type": "markdown",
   "metadata": {},
   "source": [
    "# Settings"
   ]
  },
  {
   "cell_type": "code",
   "execution_count": 80,
   "metadata": {},
   "outputs": [
    {
     "name": "stdout",
     "output_type": "stream",
     "text": [
      "Settings:\n",
      "\n",
      "Sessions: 2\n",
      "Runs per session: 3\n",
      "Trials per run: 120\n",
      "Stop trials per run: 30 (25.00 percent)\n",
      "Assuming a TR of 3 seconds\n",
      "Jitter options: [0.75, 1.5, 2.25, 3] seconds\n"
     ]
    }
   ],
   "source": [
    "n_runs = 3\n",
    "n_sessions = 2\n",
    "n_trials = 120\n",
    "tr = 3\n",
    "jitters = [0.75, 1.5, 2.25, 3]\n",
    "n_stop_trials = int(np.ceil(n_trials/4))\n",
    "perc = (n_stop_trials / n_trials)*100\n",
    "\n",
    "print('Settings:\\n\\n\\\n",
    "Sessions: {n_sessions}\\n\\\n",
    "Runs per session: {n_runs}\\n\\\n",
    "Trials per run: {n_trials}\\n\\\n",
    "Stop trials per run: {n_stop_trials} ({perc:.2f} percent)\\n\\\n",
    "Assuming a TR of {tr} seconds\\n\\\n",
    "Jitter options: {jitters} seconds'.format(**globals()))"
   ]
  },
  {
   "cell_type": "code",
   "execution_count": 81,
   "metadata": {
    "collapsed": true
   },
   "outputs": [],
   "source": [
    "def generate_design(n_trials, jitters, n_stop_trials):\n",
    "    # make direction array\n",
    "    \n",
    "    design = pd.DataFrame({'direction': np.tile([0, 1], int(np.ceil(n_trials/2))),\n",
    "                           'stop_trial': 0})\n",
    "    design.loc[:(n_stop_trials-1), 'stop_trial'] = 1\n",
    "    design = design.sample(frac=1).reset_index(drop=True)\n",
    "    \n",
    "    # make jitter array\n",
    "    design['jitter'] = np.random.choice(jitters, size=n_trials, replace=True)\n",
    "\n",
    "    return(design)"
   ]
  },
  {
   "cell_type": "code",
   "execution_count": 82,
   "metadata": {
    "collapsed": true
   },
   "outputs": [],
   "source": [
    "n_subjects = 18"
   ]
  },
  {
   "cell_type": "code",
   "execution_count": 84,
   "metadata": {},
   "outputs": [
    {
     "name": "stdout",
     "output_type": "stream",
     "text": [
      "sub-001_session-1_design\n",
      "sub-001_session-2_design\n",
      "sub-002_session-1_design\n",
      "sub-002_session-2_design\n",
      "sub-003_session-1_design\n",
      "sub-003_session-2_design\n",
      "sub-004_session-1_design\n",
      "sub-004_session-2_design\n",
      "sub-005_session-1_design\n",
      "sub-005_session-2_design\n",
      "sub-006_session-1_design\n",
      "sub-006_session-2_design\n",
      "sub-007_session-1_design\n",
      "sub-007_session-2_design\n",
      "sub-008_session-1_design\n",
      "sub-008_session-2_design\n",
      "sub-009_session-1_design\n",
      "sub-009_session-2_design\n",
      "sub-010_session-1_design\n",
      "sub-010_session-2_design\n",
      "sub-011_session-1_design\n",
      "sub-011_session-2_design\n",
      "sub-012_session-1_design\n",
      "sub-012_session-2_design\n",
      "sub-013_session-1_design\n",
      "sub-013_session-2_design\n",
      "sub-014_session-1_design\n",
      "sub-014_session-2_design\n",
      "sub-015_session-1_design\n",
      "sub-015_session-2_design\n",
      "sub-016_session-1_design\n",
      "sub-016_session-2_design\n",
      "sub-017_session-1_design\n",
      "sub-017_session-2_design\n",
      "sub-018_session-1_design\n",
      "sub-018_session-2_design\n"
     ]
    }
   ],
   "source": [
    "#\n",
    "save_dir = './designs'\n",
    "if not os.path.isdir(save_dir):\n",
    "    os.makedirs(save_dir)\n",
    "    \n",
    "for subject_id in np.arange(1,n_subjects+1):\n",
    "    for session in range(1,n_sessions+1):\n",
    "        designs_this_session = []\n",
    "        \n",
    "        for run in range(1,n_runs+1):\n",
    "            design = generate_design(n_trials, jitters, n_stop_trials)\n",
    "            design['block'] = run\n",
    "            \n",
    "            designs_this_session.append(design)\n",
    "        \n",
    "        design = pd.concat(designs_this_session)\n",
    "        fn = 'sub-' + str(subject_id).zfill(3) + '_session-' + str(session) + '_design'\n",
    "        print(fn)\n",
    "        design.to_csv(save_dir + '/' + fn + '.csv', sep='\\t', index_label='trial_ID')"
   ]
  },
  {
   "cell_type": "code",
   "execution_count": 85,
   "metadata": {
    "collapsed": true
   },
   "outputs": [],
   "source": [
    "# for debug\n",
    "n_runs = 3\n",
    "n_sessions = 2\n",
    "n_trials = 10\n",
    "tr = 3\n",
    "jitters = [0.75, 1.5, 2.25, 3]\n",
    "n_stop_trials = int(np.ceil(n_trials/4))\n",
    "\n",
    "save_dir = './designs'\n",
    "if not os.path.isdir(save_dir):\n",
    "    os.makedirs(save_dir)\n",
    "    \n",
    "for subject_id in ['DEBUG']:\n",
    "    for session in range(1,n_sessions+1):\n",
    "        designs_this_session = []\n",
    "        \n",
    "        for run in range(1,n_runs+1):\n",
    "            design = generate_design(n_trials, jitters, n_stop_trials)\n",
    "            design['block'] = run\n",
    "            \n",
    "            designs_this_session.append(design)\n",
    "        \n",
    "        design = pd.concat(designs_this_session)\n",
    "        fn = 'sub-' + str(subject_id).zfill(3) + '_session-' + str(session) + '_design'\n",
    "        design.to_csv(save_dir + '/' + fn + '.csv', sep='\\t', index_label='trial_ID')"
   ]
  },
  {
   "cell_type": "code",
   "execution_count": 86,
   "metadata": {},
   "outputs": [
    {
     "data": {
      "text/plain": [
       "direction\n",
       "0    6\n",
       "1    3\n",
       "Name: stop_trial, dtype: int64"
      ]
     },
     "execution_count": 86,
     "metadata": {},
     "output_type": "execute_result"
    }
   ],
   "source": [
    "design.groupby('direction').stop_trial.sum()"
   ]
  }
 ],
 "metadata": {
  "kernelspec": {
   "display_name": "Python 2",
   "language": "python",
   "name": "python2"
  },
  "language_info": {
   "codemirror_mode": {
    "name": "ipython",
    "version": 2
   },
   "file_extension": ".py",
   "mimetype": "text/x-python",
   "name": "python",
   "nbconvert_exporter": "python",
   "pygments_lexer": "ipython2",
   "version": "2.7.14"
  }
 },
 "nbformat": 4,
 "nbformat_minor": 2
}
